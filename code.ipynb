import matplotlib.pyplot as plt
import time

def binary_search(arr, target):
    left, right = 0, len(arr) - 1

    while left <= right:
        mid = (left + right) // 2

        plt.clf()  # Clear the previous plot
        plot_binary_search(arr, target, left, right, mid)  # Plot the current state
        plt.pause(0.5)  # Pause to see the visualization

        if arr[mid] == target:
            return mid
        elif arr[mid] < target:
            left = mid + 1
        else:
            right = mid - 1

    return -1

def plot_binary_search(arr, target, left, right, mid):
    plt.bar(range(len(arr)), arr, color=['blue' if i != mid else 'red' for i in range(len(arr))])
    plt.xlabel('Index')
    plt.ylabel('Value')
    plt.title(f'Target: {target}, Left: {left}, Right: {right}, Mid: {mid}')
    plt.show()

# Example usage:
if __name__ == "__main__":
    arr = [1, 3, 5, 7, 9, 11, 13, 15, 17, 19]
    target = 11

    result = binary_search(arr, target)

    if result != -1:
        print(f"Found {target} at index {result}")
    else:
        print(f"{target} not found in the array")
